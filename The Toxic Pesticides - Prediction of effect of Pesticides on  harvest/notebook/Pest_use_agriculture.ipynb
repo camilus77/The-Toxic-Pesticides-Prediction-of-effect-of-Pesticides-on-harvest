{
 "cells": [
  {
   "cell_type": "markdown",
   "metadata": {},
   "source": [
    "# The Toxic Pesticides: Prediction of effect of Pesticides on  harvest\n",
    "\n",
    "### By Ubong Ben"
   ]
  },
  {
   "cell_type": "markdown",
   "metadata": {},
   "source": [
    "### INTRODUCTION\n",
    "\n",
    "It has been well understood over the years that a farmer's job is a cyclic test of endurance and determination (Bergfjord, 2013; Filipiak et al., 2001). Once the seeds are sown, the farmer works days and nights to make sure that he cultivations lead up to a good harvest at the end of season. A good harvest is ensured by several factors such as availability of water, soil fertility, protecting crops from rodents, timely use of pesticides & other useful chemicals and nature. While a lot of these factors are difficult to control for, the amount and frequency of pesticides is something the farmer can control.\n",
    "\n",
    "Pesticides are also special, because while they protect the crop with the right dosage (Johnsen et al., 2001). However if the additions is more thatn required, they may end up being disastrous to the entire harvest. A high level of pesticide can deem kill the crops altogether or, render them unsuitable for consumption (Ogut, 2019). \n",
    "\n",
    "In this project, we would design a machine learning model that would analyze the composition of pesticides and determing what would be the outcome in terms of harvest at the end of the farming season i.e. whether the crop would be healthy (alive), damaged by pesticides, or damaged by other reasons."
   ]
  },
  {
   "cell_type": "markdown",
   "metadata": {},
   "source": [
    "## Objective\n",
    "\n",
    "To design a model that can predict if crops at harvest would be healthy, damaged by pesticides or destroyed through other reasons. "
   ]
  },
  {
   "cell_type": "code",
   "execution_count": 3,
   "metadata": {
    "_cell_guid": "b1076dfc-b9ad-4769-8c92-a6c4dae69d19",
    "_uuid": "8f2839f25d086af736a60e9eeb907d3b93b6e0e5",
    "scrolled": true
   },
   "outputs": [
    {
     "ename": "ModuleNotFoundError",
     "evalue": "No module named 'imblearn'",
     "output_type": "error",
     "traceback": [
      "\u001b[1;31m---------------------------------------------------------------------------\u001b[0m",
      "\u001b[1;31mModuleNotFoundError\u001b[0m                       Traceback (most recent call last)",
      "Input \u001b[1;32mIn [3]\u001b[0m, in \u001b[0;36m<cell line: 14>\u001b[1;34m()\u001b[0m\n\u001b[0;32m      8\u001b[0m \u001b[38;5;124;03m'''\u001b[39;00m\n\u001b[0;32m      9\u001b[0m \u001b[38;5;124;03mimport lightgbm as lgb\u001b[39;00m\n\u001b[0;32m     10\u001b[0m \u001b[38;5;124;03mimport xgboost as xgb\u001b[39;00m\n\u001b[0;32m     11\u001b[0m \u001b[38;5;124;03mimport catboost as cb\u001b[39;00m\n\u001b[0;32m     12\u001b[0m \u001b[38;5;124;03m'''\u001b[39;00m\n\u001b[0;32m     13\u001b[0m \u001b[38;5;28;01mfrom\u001b[39;00m \u001b[38;5;21;01msklearn\u001b[39;00m \u001b[38;5;28;01mimport\u001b[39;00m ensemble, preprocessing, tree, model_selection, feature_selection, pipeline, metrics\n\u001b[1;32m---> 14\u001b[0m \u001b[38;5;28;01mfrom\u001b[39;00m \u001b[38;5;21;01mimblearn\u001b[39;00m \u001b[38;5;28;01mimport\u001b[39;00m under_sampling, over_sampling, combine\n\u001b[0;32m     15\u001b[0m \u001b[38;5;28;01mfrom\u001b[39;00m \u001b[38;5;21;01mimblearn\u001b[39;00m \u001b[38;5;28;01mimport\u001b[39;00m pipeline \u001b[38;5;28;01mas\u001b[39;00m imb_pipeline\n\u001b[0;32m     16\u001b[0m \u001b[38;5;28;01mfrom\u001b[39;00m \u001b[38;5;21;01mimblearn\u001b[39;00m \u001b[38;5;28;01mimport\u001b[39;00m ensemble \u001b[38;5;28;01mas\u001b[39;00m imb_ensemble\n",
      "\u001b[1;31mModuleNotFoundError\u001b[0m: No module named 'imblearn'"
     ]
    }
   ],
   "source": [
    "\n",
    "#basic data science modules\n",
    "import os\n",
    "import numpy as np \n",
    "import pandas as pd \n",
    "import matplotlib.pyplot as plt\n",
    "\n",
    "#for modelling\n",
    "import lightgbm as lgb\n",
    "import xgboost as xgb\n",
    "import catboost as cb\n",
    "\n",
    "#machine learning tools\n",
    "from sklearn import ensemble, preprocessing, tree, model_selection, feature_selection, pipeline, metrics\n",
    "from imblearn import under_sampling, over_sampling, combine\n",
    "from imblearn import pipeline as imb_pipeline\n",
    "from imblearn import ensemble as imb_ensemble\n",
    "from sklearn.model_selection import StratifiedKFold\n",
    "from skopt import gp_minimize, space, gbrt_minimize, dummy_minimize, forest_minimize\n",
    "from functools import partial\n"
   ]
  },
  {
   "cell_type": "markdown",
   "metadata": {},
   "source": [
    "## Import Data"
   ]
  },
  {
   "cell_type": "code",
   "execution_count": 1,
   "metadata": {
    "_cell_guid": "79c7e3d0-c299-4dcb-8224-4455121ee9b0",
    "_uuid": "d629ff2d2480ee46fbb7e2d37f6b5fab8052498a"
   },
   "outputs": [
    {
     "ename": "NameError",
     "evalue": "name 'os' is not defined",
     "output_type": "error",
     "traceback": [
      "\u001b[1;31m---------------------------------------------------------------------------\u001b[0m",
      "\u001b[1;31mNameError\u001b[0m                                 Traceback (most recent call last)",
      "Input \u001b[1;32mIn [1]\u001b[0m, in \u001b[0;36m<cell line: 1>\u001b[1;34m()\u001b[0m\n\u001b[1;32m----> 1\u001b[0m \u001b[38;5;28;01mfor\u001b[39;00m dirname, _, filenames \u001b[38;5;129;01min\u001b[39;00m \u001b[43mos\u001b[49m\u001b[38;5;241m.\u001b[39mwalk(\u001b[38;5;124m'\u001b[39m\u001b[38;5;124m/kaggle/input\u001b[39m\u001b[38;5;124m'\u001b[39m):\n\u001b[0;32m      2\u001b[0m     \u001b[38;5;28;01mfor\u001b[39;00m filename \u001b[38;5;129;01min\u001b[39;00m filenames:\n\u001b[0;32m      3\u001b[0m         \u001b[38;5;28mprint\u001b[39m(os\u001b[38;5;241m.\u001b[39mpath\u001b[38;5;241m.\u001b[39mjoin(dirname, filename))\n",
      "\u001b[1;31mNameError\u001b[0m: name 'os' is not defined"
     ]
    }
   ],
   "source": [
    "for dirname, _, filenames in os.walk('/kaggle/input'):\n",
    "    for filename in filenames:\n",
    "        print(os.path.join(dirname, filename))\n",
    "        \n",
    "train = pd.read_csv('../dataset/train_yaOffsB.csv')\n",
    "test = pd.read_csv('../dataset/test_pFkWwen.csv')"
   ]
  },
  {
   "cell_type": "markdown",
   "metadata": {},
   "source": [
    "## Exploratory data analysis"
   ]
  },
  {
   "cell_type": "code",
   "execution_count": 6,
   "metadata": {},
   "outputs": [
    {
     "name": "stdout",
     "output_type": "stream",
     "text": [
      "<class 'pandas.core.frame.DataFrame'>\n",
      "RangeIndex: 88858 entries, 0 to 88857\n",
      "Data columns (total 10 columns):\n",
      " #   Column                   Non-Null Count  Dtype  \n",
      "---  ------                   --------------  -----  \n",
      " 0   ID                       88858 non-null  object \n",
      " 1   Estimated_Insects_Count  88858 non-null  int64  \n",
      " 2   Crop_Type                88858 non-null  int64  \n",
      " 3   Soil_Type                88858 non-null  int64  \n",
      " 4   Pesticide_Use_Category   88858 non-null  int64  \n",
      " 5   Number_Doses_Week        88858 non-null  int64  \n",
      " 6   Number_Weeks_Used        79858 non-null  float64\n",
      " 7   Number_Weeks_Quit        88858 non-null  int64  \n",
      " 8   Season                   88858 non-null  int64  \n",
      " 9   Crop_Damage              88858 non-null  int64  \n",
      "dtypes: float64(1), int64(8), object(1)\n",
      "memory usage: 6.8+ MB\n"
     ]
    }
   ],
   "source": [
    "train.info()\n",
    "\n"
   ]
  },
  {
   "cell_type": "code",
   "execution_count": 7,
   "metadata": {},
   "outputs": [
    {
     "data": {
      "text/plain": [
       "ID                         88858\n",
       "Estimated_Insects_Count       71\n",
       "Crop_Type                      2\n",
       "Soil_Type                      2\n",
       "Pesticide_Use_Category         3\n",
       "Number_Doses_Week             20\n",
       "Number_Weeks_Used             64\n",
       "Number_Weeks_Quit             51\n",
       "Season                         3\n",
       "Crop_Damage                    3\n",
       "dtype: int64"
      ]
     },
     "execution_count": 7,
     "metadata": {},
     "output_type": "execute_result"
    }
   ],
   "source": [
    "#check number of unique rows in each column\n",
    "train.nunique()"
   ]
  },
  {
   "cell_type": "code",
   "execution_count": 9,
   "metadata": {},
   "outputs": [
    {
     "data": {
      "text/plain": [
       "ID                            0\n",
       "Estimated_Insects_Count       0\n",
       "Crop_Type                     0\n",
       "Soil_Type                     0\n",
       "Pesticide_Use_Category        0\n",
       "Number_Doses_Week             0\n",
       "Number_Weeks_Used          9000\n",
       "Number_Weeks_Quit             0\n",
       "Season                        0\n",
       "Crop_Damage                   0\n",
       "dtype: int64"
      ]
     },
     "execution_count": 9,
     "metadata": {},
     "output_type": "execute_result"
    }
   ],
   "source": [
    "train.isnull().sum()"
   ]
  },
  {
   "cell_type": "markdown",
   "metadata": {},
   "source": [
    "Seems that the dataset is relatively clean but gor the number of weeks used. We will fill that in with the median. "
   ]
  },
  {
   "cell_type": "code",
   "execution_count": null,
   "metadata": {},
   "outputs": [],
   "source": [
    "fill_values = train.median()\n",
    "train = train.fillna(fill_values)\n",
    "test = test.fillna(fill_values)"
   ]
  },
  {
   "cell_type": "code",
   "execution_count": 11,
   "metadata": {},
   "outputs": [
    {
     "name": "stderr",
     "output_type": "stream",
     "text": [
      "C:\\Users\\DELL\\AppData\\Local\\Temp\\ipykernel_11868\\2818772921.py:2: FutureWarning: Dropping of nuisance columns in DataFrame reductions (with 'numeric_only=None') is deprecated; in a future version this will raise TypeError.  Select only valid columns before calling the reduction.\n",
      "  train.skew()\n",
      "C:\\Users\\DELL\\AppData\\Local\\Temp\\ipykernel_11868\\2818772921.py:3: FutureWarning: Dropping of nuisance columns in DataFrame reductions (with 'numeric_only=None') is deprecated; in a future version this will raise TypeError.  Select only valid columns before calling the reduction.\n",
      "  test.skew()\n"
     ]
    },
    {
     "data": {
      "text/plain": [
       "Estimated_Insects_Count    0.847195\n",
       "Crop_Type                  0.941381\n",
       "Soil_Type                  0.180264\n",
       "Pesticide_Use_Category     0.778521\n",
       "Number_Doses_Week          0.929623\n",
       "Number_Weeks_Used          0.235308\n",
       "Number_Weeks_Quit          0.901358\n",
       "Season                     0.139853\n",
       "dtype: float64"
      ]
     },
     "execution_count": 11,
     "metadata": {},
     "output_type": "execute_result"
    }
   ],
   "source": [
    "#check for skewness\n",
    "train.skew()"
   ]
  },
  {
   "cell_type": "code",
   "execution_count": 12,
   "metadata": {},
   "outputs": [
    {
     "name": "stderr",
     "output_type": "stream",
     "text": [
      "C:\\Users\\DELL\\AppData\\Local\\Temp\\ipykernel_11868\\1515727625.py:1: FutureWarning: Dropping of nuisance columns in DataFrame reductions (with 'numeric_only=None') is deprecated; in a future version this will raise TypeError.  Select only valid columns before calling the reduction.\n",
      "  test.skew()\n"
     ]
    },
    {
     "data": {
      "text/plain": [
       "Estimated_Insects_Count    0.847195\n",
       "Crop_Type                  0.941381\n",
       "Soil_Type                  0.180264\n",
       "Pesticide_Use_Category     0.778521\n",
       "Number_Doses_Week          0.929623\n",
       "Number_Weeks_Used          0.235308\n",
       "Number_Weeks_Quit          0.901358\n",
       "Season                     0.139853\n",
       "dtype: float64"
      ]
     },
     "execution_count": 12,
     "metadata": {},
     "output_type": "execute_result"
    }
   ],
   "source": [
    "test.skew()"
   ]
  },
  {
   "cell_type": "markdown",
   "metadata": {},
   "source": [
    "We will process our data to balance out the skewness.."
   ]
  },
  {
   "cell_type": "code",
   "execution_count": 13,
   "metadata": {},
   "outputs": [],
   "source": [
    "#this function flattens out skewness\n",
    "def preprocess(data):\n",
    "    data['Estimated_Insects_Count'] = np.log1p(data['Estimated_Insects_Count'].values)\n",
    "    data['Number_Weeks_Quit'] = np.log1p(data['Number_Weeks_Quit'].values)\n",
    "    #data['Number_Weeks_Used'] = np.log1p(data['Number_Weeks_Used'].values)\n",
    "    return data\n",
    "\n",
    "train = preprocess(train)\n",
    "test = preprocess(test)"
   ]
  },
  {
   "cell_type": "code",
   "execution_count": 18,
   "metadata": {},
   "outputs": [],
   "source": [
    "cols=list(train.columns)\n",
    "cols.remove('ID')"
   ]
  },
  {
   "cell_type": "code",
   "execution_count": 19,
   "metadata": {},
   "outputs": [
    {
     "data": {
      "image/png": "[encoded data removed]",
      "text/plain": [
       "<Figure size 1440x1440 with 9 Axes>"
      ]
     },
     "metadata": {
      "needs_background": "light"
     },
     "output_type": "display_data"
    }
   ],
   "source": [
    "fig, ax = plt.subplots(3, 3, figsize = (20, 20))\n",
    "for col, axis in zip(cols, ax.flatten()):\n",
    "    axis.hist(train[col])\n",
    "    axis.set_xlabel(col)"
   ]
  },
  {
   "cell_type": "markdown",
   "metadata": {},
   "source": [
    "Looks good. "
   ]
  },
  {
   "cell_type": "code",
   "execution_count": 21,
   "metadata": {},
   "outputs": [],
   "source": [
    "X = train.drop(['ID','Crop_Damage'], axis = 1)\n",
    "y = train['Crop_Damage']\n"
   ]
  },
  {
   "cell_type": "markdown",
   "metadata": {},
   "source": [
    "## Model Bulding"
   ]
  },
  {
   "cell_type": "markdown",
   "metadata": {},
   "source": [
    "For our modelling process we will employ the Lightgbm  model which we will tune using skopt..."
   ]
  },
  {
   "cell_type": "code",
   "execution_count": null,
   "metadata": {},
   "outputs": [],
   "source": [
    "def optimize_sk(params, param_names, X, y, scoring, estimator, cv = model_selection.StratifiedKFold(n_splits = 5)):\n",
    "    '''params: list of param values\n",
    "    param_names: param names\n",
    "    x: training exogs\n",
    "    y: training endogs\n",
    "    return: negative metric after k fold validation'''\n",
    "\n",
    "    params = dict(zip(param_names, params))\n",
    "\n",
    "    # Initialize the model\n",
    "    model = estimator(**params)\n",
    "\n",
    "    kf = cv\n",
    "\n",
    "    scores = []\n",
    "    for train_index, test_index in kf.split(X, y):\n",
    "        # Split Data\n",
    "        X_train, y_train = np.array(X)[train_index, :], y[train_index]\n",
    "        X_test, y_test = np.array(X)[test_index, :], y[test_index]\n",
    "\n",
    "        # Fit model\n",
    "        model.fit(X_train, y_train)\n",
    "\n",
    "        # Evaluate model\n",
    "        preds = model.predict(X_test)\n",
    "        scores.append(scoring(y_test, preds))\n",
    "\n",
    "    return -np.mean(scores)\n",
    "\n",
    "# Scoring\n",
    "def f1_score(y_true, y_pred):\n",
    "    return metrics.f1_score(y_true, y_pred, average = 'macro')\n",
    "\n",
    "def accuracy(y_true, y_pred):\n",
    "    return metrics.accuracy_score(y_true, y_pred)\n",
    "\n",
    "# Parameter Space\n",
    "param_space = [\n",
    "    space.Integer(500, 2500, name = 'n_estimators'),\n",
    "    space.Integer(2, 10, name = 'max_depth'),\n",
    "    space.Real(0, 1, name = 'feature_fraction'),\n",
    "    space.Integer(2, 25, name = 'min_data_in_leaf'),\n",
    "    space.Real(.001, .4, name = 'learning_rate')\n",
    "]\n",
    "\n",
    "# Param names\n",
    "names = ['n_estimators', 'max_depth', 'feature_fraction', 'min_data_in_leaf', 'learning_rate']\n",
    "\n",
    "cat_cols = ['Crop_Type', 'Soil_Type', 'Pesticide_Use_Category','Season']\n",
    "\n",
    "# Define objective - reformat it in terms of what is required for skopt\n",
    "objective_optimization = partial(optimize_sk, param_names = names, X = X, y = y, \n",
    "                                scoring = accuracy, estimator = partial(lgb.LGBMClassifier,\n",
    "                                                                    cat_columns = cat_cols))\n",
    "\n",
    "# Perform Optimization\n",
    "#gbrt_minimize, dummy_minimize, forest_minimize\n",
    "skopt_optimization = dummy_minimize(func = objective_optimization, \n",
    "                                dimensions = param_space, n_calls = 10,  \n",
    "                                x0 = None, y0 = None, random_state = 10, \n",
    "                                verbose = 10)"
   ]
  },
  {
   "cell_type": "code",
   "execution_count": null,
   "metadata": {},
   "outputs": [],
   "source": [
    "model = lgb.LGBMClassifier(**dict(zip(names, skopt_optimization.x))).fit(X, y)\n"
   ]
  },
  {
   "cell_type": "markdown",
   "metadata": {},
   "source": [
    "We will now proceed to hand-tune our models. This may present better results...."
   ]
  },
  {
   "cell_type": "code",
   "execution_count": 2,
   "metadata": {},
   "outputs": [
    {
     "ename": "NameError",
     "evalue": "name 'cb' is not defined",
     "output_type": "error",
     "traceback": [
      "\u001b[1;31m---------------------------------------------------------------------------\u001b[0m",
      "\u001b[1;31mNameError\u001b[0m                                 Traceback (most recent call last)",
      "Input \u001b[1;32mIn [2]\u001b[0m, in \u001b[0;36m<cell line: 3>\u001b[1;34m()\u001b[0m\n\u001b[0;32m      1\u001b[0m \u001b[38;5;66;03m## Create Hand-tuned Ensemble model\u001b[39;00m\n\u001b[0;32m      2\u001b[0m cat_cols \u001b[38;5;241m=\u001b[39m [\u001b[38;5;124m'\u001b[39m\u001b[38;5;124mCrop_Type\u001b[39m\u001b[38;5;124m'\u001b[39m, \u001b[38;5;124m'\u001b[39m\u001b[38;5;124mSoil_Type\u001b[39m\u001b[38;5;124m'\u001b[39m, \u001b[38;5;124m'\u001b[39m\u001b[38;5;124mPesticide_Use_Category\u001b[39m\u001b[38;5;124m'\u001b[39m,\u001b[38;5;124m'\u001b[39m\u001b[38;5;124mSeason\u001b[39m\u001b[38;5;124m'\u001b[39m]\n\u001b[1;32m----> 3\u001b[0m model_cb \u001b[38;5;241m=\u001b[39m \u001b[43mcb\u001b[49m\u001b[38;5;241m.\u001b[39mCatBoostClassifier(cat_features \u001b[38;5;241m=\u001b[39m cat_cols, verbose \u001b[38;5;241m=\u001b[39m \u001b[38;5;28;01mFalse\u001b[39;00m)\n\u001b[0;32m      4\u001b[0m model_lgb \u001b[38;5;241m=\u001b[39m lgb\u001b[38;5;241m.\u001b[39mLGBMClassifier(n_estimators \u001b[38;5;241m=\u001b[39m \u001b[38;5;241m1000\u001b[39m, min_samples_in_leaf \u001b[38;5;241m=\u001b[39m \u001b[38;5;241m10\u001b[39m, learning_rate \u001b[38;5;241m=\u001b[39m \u001b[38;5;241m.02\u001b[39m, \n\u001b[0;32m      5\u001b[0m                           feature_fraction \u001b[38;5;241m=\u001b[39m \u001b[38;5;241m.8\u001b[39m, max_depth \u001b[38;5;241m=\u001b[39m \u001b[38;5;241m8\u001b[39m)\n\u001b[0;32m      6\u001b[0m model_voting \u001b[38;5;241m=\u001b[39m ensemble\u001b[38;5;241m.\u001b[39mVotingClassifier([(\u001b[38;5;124m'\u001b[39m\u001b[38;5;124mcatboost\u001b[39m\u001b[38;5;124m'\u001b[39m, model_cb), (\u001b[38;5;124m'\u001b[39m\u001b[38;5;124mlightgbm\u001b[39m\u001b[38;5;124m'\u001b[39m, model_lgb)], \n\u001b[0;32m      7\u001b[0m                                          voting \u001b[38;5;241m=\u001b[39m \u001b[38;5;124m'\u001b[39m\u001b[38;5;124msoft\u001b[39m\u001b[38;5;124m'\u001b[39m)\u001b[38;5;241m.\u001b[39mfit(X, y)\n",
      "\u001b[1;31mNameError\u001b[0m: name 'cb' is not defined"
     ]
    }
   ],
   "source": [
    "## Create Hand-tuned Ensemble model\n",
    "cat_cols = ['Crop_Type', 'Soil_Type', 'Pesticide_Use_Category','Season']\n",
    "model_cb = cb.CatBoostClassifier(cat_features = cat_cols, verbose = False)\n",
    "model_lgb = lgb.LGBMClassifier(n_estimators = 1000, min_samples_in_leaf = 10, learning_rate = .02, \n",
    "                          feature_fraction = .8, max_depth = 8)\n",
    "model_voting = ensemble.VotingClassifier([('catboost', model_cb), ('lightgbm', model_lgb)], \n",
    "                                         voting = 'soft').fit(X, y)\n"
   ]
  },
  {
   "cell_type": "code",
   "execution_count": null,
   "metadata": {},
   "outputs": [],
   "source": [
    "pred = pd.DataFrame()\n",
    "pred['ID'] = test['ID'].values\n",
    "pred['Crop_Damage'] = model_voting.predict(test.drop(['ID','Crop_Damage'], axis = 1)\n"
   ]
  },
  {
   "cell_type": "markdown",
   "metadata": {},
   "source": [
    "Save as pickle file"
   ]
  },
  {
   "cell_type": "code",
   "execution_count": null,
   "metadata": {},
   "outputs": [],
   "source": [
    "#saving model as pickle file\n",
    "our_model = '../model/pest_model.pkl'\n",
    "# Open the file to save as pkl file\n",
    "model = open(our_model, 'wb')\n",
    "pickle.dump(random_forest, model)\n",
    "# Close the pickle instances\n",
    "model.close()"
   ]
  },
  {
   "cell_type": "markdown",
   "metadata": {},
   "source": [
    "### References\n",
    "\n",
    "Bergfjord, O. J. 2013. “Farming and Risk Attitude.” Emirates Journal of Food and Agriculture. https://doi.org/10.9755/ejfa.v25i7.13584.\n",
    "\n",
    "Filipiak, B., J. Heinrich, T. Schäfer, J. Ring, and H. E. Wichmann. 2001. “Farming, Rural Lifestyle and Atopy in Adults from Southern Germany - Results from the MONICA/KORA Study Augsburg.” Clinical and Experimental Allergy. https://doi.org/10.1046/j.1365-2222.2001.01246.x.\n",
    "\n",
    "Johnsen, Kaare, Carsten S. Jacobsen, Vigdis Torsvik, and Jan Sørensen. 2001. “Pesticide Effects on Bacterial Diversity in Agricultural Soils - A Review.” Biology and Fertility of Soils. https://doi.org/10.1007/s003740100351.\n",
    "\n",
    "Ogut, Serdal. 2019. “Genotoxic Effects of Pesticides.” Journal of Environmental Protection and Ecology.\n",
    "\n"
   ]
  },
  {
   "cell_type": "code",
   "execution_count": null,
   "metadata": {},
   "outputs": [],
   "source": []
  }
 ],
 "metadata": {
  "kernelspec": {
   "display_name": "Python 3 (ipykernel)",
   "language": "python",
   "name": "python3"
  },
  "language_info": {
   "codemirror_mode": {
    "name": "ipython",
    "version": 3
   },
   "file_extension": ".py",
   "mimetype": "text/x-python",
   "name": "python",
   "nbconvert_exporter": "python",
   "pygments_lexer": "ipython3",
   "version": "3.9.12"
  }
 },
 "nbformat": 4,
 "nbformat_minor": 4
}
